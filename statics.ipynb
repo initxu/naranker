{
 "cells": [
  {
   "cell_type": "code",
   "execution_count": 2,
   "metadata": {},
   "outputs": [],
   "source": [
    "import numpy as np"
   ]
  },
  {
   "cell_type": "code",
   "execution_count": 13,
   "metadata": {},
   "outputs": [
    {
     "name": "stdout",
     "output_type": "stream",
     "text": [
      "94.243000002 ± 0.09319275132278688, best 94.37333333\n",
      "91.376399987 ± 0.12081802798773021, best 91.60666665\n"
     ]
    }
   ],
   "source": [
    "n201_cifar10_test = [94.12666667, 94.29666667,94.12500000,94.21666667,94.29666667,94.30666667,94.29666667,94.30666667,94.08500000,94.37333333]\n",
    "n201_cifar10_val = [91.23733332, 91.44799999,91.32799998,91.42399999,91.44799999,91.33599999,91.44799999,91.33599999,91.15199998,91.60666665]\n",
    "\n",
    "test_mean = np.mean(n201_cifar10_test)\n",
    "test_sd = np.std(n201_cifar10_test)\n",
    "test_max = np.max(n201_cifar10_test)\n",
    "\n",
    "val_mean = np.mean(n201_cifar10_val)\n",
    "val_std = np.std(n201_cifar10_val)\n",
    "val_max = np.max(n201_cifar10_val)\n",
    "\n",
    "\n",
    "print('{} ± {}, best {}'.format(test_mean,test_sd,test_max))\n",
    "print('{} ± {}, best {}'.format(val_mean,val_std,val_max))"
   ]
  },
  {
   "cell_type": "code",
   "execution_count": 14,
   "metadata": {},
   "outputs": [
    {
     "name": "stdout",
     "output_type": "stream",
     "text": [
      "72.84799995899999 ± 0.40942018052417345, best 73.51333332\n",
      "72.613333303 ± 0.44883060774021016, best 73.49333336\n"
     ]
    }
   ],
   "source": [
    "n201_cifar100_test = [73.21999997,72.47999996,73.03999996,72.56666665,72.41999998,73.15999987,73.51333332,72.77999991,73.13999999,72.15999998]\n",
    "n201_cifar100_val = [72.74666661,72.98000002,72.85999996,72.63999992,72.29999995,72.72000004,73.49333336,71.93999988,72.51333331,71.93999998]\n",
    "\n",
    "test_mean = np.mean(n201_cifar100_test)\n",
    "test_sd = np.std(n201_cifar100_test)\n",
    "test_max = np.max(n201_cifar100_test)\n",
    "\n",
    "val_mean = np.mean(n201_cifar100_val)\n",
    "val_std = np.std(n201_cifar100_val)\n",
    "val_max = np.max(n201_cifar100_val)\n",
    "\n",
    "\n",
    "print('{} ± {}, best {}'.format(test_mean,test_sd,test_max))\n",
    "print('{} ± {}, best {}'.format(val_mean,val_std,val_max))"
   ]
  },
  {
   "cell_type": "code",
   "execution_count": 16,
   "metadata": {},
   "outputs": [
    {
     "name": "stdout",
     "output_type": "stream",
     "text": [
      "46.389444422000004 ± 0.4581258635512399, best 47.31111101\n",
      "45.813888828 ± 0.5952758856515811, best 46.55555549\n"
     ]
    }
   ],
   "source": [
    "n201_img16_test = [46.68333334,46.58888893,46.68333334,47.31111101,46.66666655,45.68333332,45.94999992,45.97777775,46.11666670,46.23333336]\n",
    "n201_img16_val = [45.53333324,46.55555549,45.53333324,46.37777776,46.39999985,46.13333323,44.78333331,45.32222219,45.13333331,46.36666666]\n",
    "\n",
    "test_mean = np.mean(n201_img16_test)\n",
    "test_sd = np.std(n201_img16_test)\n",
    "test_max = np.max(n201_img16_test)\n",
    "\n",
    "val_mean = np.mean(n201_img16_val)\n",
    "val_std = np.std(n201_img16_val)\n",
    "val_max = np.max(n201_img16_val)\n",
    "\n",
    "print('{} ± {}, best {}'.format(test_mean,test_sd,test_max))\n",
    "print('{} ± {}, best {}'.format(val_mean,val_std,val_max))"
   ]
  },
  {
   "cell_type": "code",
   "execution_count": 3,
   "metadata": {},
   "outputs": [
    {
     "name": "stdout",
     "output_type": "stream",
     "text": [
      "0.9392962080000002 ± 0.00033778078953070284, best 0.93993723\n"
     ]
    }
   ],
   "source": [
    "n101 = [0.93963675, 0.93926950, 0.93993723,0.93926950,0.93963675,0.93913595,0.93866855,0.93913595,0.93913595,0.93913595]\n",
    "test_mean = np.mean(n101)\n",
    "test_sd = np.std(n101)\n",
    "test_max = np.max(n101)\n",
    "print('{} ± {}, best {}'.format(test_mean,test_sd,test_max))"
   ]
  },
  {
   "cell_type": "code",
   "execution_count": 3,
   "metadata": {},
   "outputs": [
    {
     "name": "stdout",
     "output_type": "stream",
     "text": [
      "93.913 ± 0.1287672318565553, best 94.14\n"
     ]
    }
   ],
   "source": [
    "ctnas = [93.91, 93.93, 94.14, 93.76, 93.91, 93.91, 93.67, 94.06, 93.85, 93.99]\n",
    "test_mean = np.mean(ctnas)\n",
    "test_sd = np.std(ctnas)\n",
    "test_max = np.max(ctnas)\n",
    "print('{} ± {}, best {}'.format(test_mean,test_sd,test_max))"
   ]
  },
  {
   "cell_type": "code",
   "execution_count": 4,
   "metadata": {},
   "outputs": [
    {
     "name": "stdout",
     "output_type": "stream",
     "text": [
      "93.96399999999998 ± 0.07812809993849813, best 94.02\n"
     ]
    }
   ],
   "source": [
    "renas = [93.99, 94.02, 93.88, 93.77,93.99, 94.02,93.93,94.02,94.00, 94.02]\n",
    "test_mean = np.mean(renas)\n",
    "test_sd = np.std(renas)\n",
    "test_max = np.max(renas)\n",
    "print('{} ± {}, best {}'.format(test_mean,test_sd,test_max))"
   ]
  },
  {
   "cell_type": "code",
   "execution_count": null,
   "metadata": {},
   "outputs": [],
   "source": []
  }
 ],
 "metadata": {
  "interpreter": {
   "hash": "c4d229c0cbf1473bc8b165130977e45c7704cd07f60e7c7324b1f62c36056d5f"
  },
  "kernelspec": {
   "display_name": "Python 3.7.8 64-bit ('rookie': conda)",
   "name": "python3"
  },
  "language_info": {
   "codemirror_mode": {
    "name": "ipython",
    "version": 3
   },
   "file_extension": ".py",
   "mimetype": "text/x-python",
   "name": "python",
   "nbconvert_exporter": "python",
   "pygments_lexer": "ipython3",
   "version": "3.7.8"
  },
  "orig_nbformat": 4
 },
 "nbformat": 4,
 "nbformat_minor": 2
}