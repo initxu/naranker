{
 "cells": [
  {
   "cell_type": "code",
   "execution_count": 2,
   "metadata": {},
   "outputs": [],
   "source": [
    "import numpy as np"
   ]
  },
  {
   "cell_type": "code",
   "execution_count": 13,
   "metadata": {},
   "outputs": [
    {
     "name": "stdout",
     "output_type": "stream",
     "text": [
      "94.243000002 ± 0.09319275132278688, best 94.37333333\n",
      "91.376399987 ± 0.12081802798773021, best 91.60666665\n"
     ]
    }
   ],
   "source": [
    "n201_cifar10_test = [94.12666667, 94.29666667,94.12500000,94.21666667,94.29666667,94.30666667,94.29666667,94.30666667,94.08500000,94.37333333]\n",
    "n201_cifar10_val = [91.23733332, 91.44799999,91.32799998,91.42399999,91.44799999,91.33599999,91.44799999,91.33599999,91.15199998,91.60666665]\n",
    "\n",
    "test_mean = np.mean(n201_cifar10_test)\n",
    "test_sd = np.std(n201_cifar10_test)\n",
    "test_max = np.max(n201_cifar10_test)\n",
    "\n",
    "val_mean = np.mean(n201_cifar10_val)\n",
    "val_std = np.std(n201_cifar10_val)\n",
    "val_max = np.max(n201_cifar10_val)\n",
    "\n",
    "\n",
    "print('{} ± {}, best {}'.format(test_mean,test_sd,test_max))\n",
    "print('{} ± {}, best {}'.format(val_mean,val_std,val_max))"
   ]
  },
  {
   "cell_type": "code",
   "execution_count": 14,
   "metadata": {},
   "outputs": [
    {
     "name": "stdout",
     "output_type": "stream",
     "text": [
      "72.84799995899999 ± 0.40942018052417345, best 73.51333332\n",
      "72.613333303 ± 0.44883060774021016, best 73.49333336\n"
     ]
    }
   ],
   "source": [
    "n201_cifar100_test = [73.21999997,72.47999996,73.03999996,72.56666665,72.41999998,73.15999987,73.51333332,72.77999991,73.13999999,72.15999998]\n",
    "n201_cifar100_val = [72.74666661,72.98000002,72.85999996,72.63999992,72.29999995,72.72000004,73.49333336,71.93999988,72.51333331,71.93999998]\n",
    "\n",
    "test_mean = np.mean(n201_cifar100_test)\n",
    "test_sd = np.std(n201_cifar100_test)\n",
    "test_max = np.max(n201_cifar100_test)\n",
    "\n",
    "val_mean = np.mean(n201_cifar100_val)\n",
    "val_std = np.std(n201_cifar100_val)\n",
    "val_max = np.max(n201_cifar100_val)\n",
    "\n",
    "\n",
    "print('{} ± {}, best {}'.format(test_mean,test_sd,test_max))\n",
    "print('{} ± {}, best {}'.format(val_mean,val_std,val_max))"
   ]
  },
  {
   "cell_type": "code",
   "execution_count": 16,
   "metadata": {},
   "outputs": [
    {
     "name": "stdout",
     "output_type": "stream",
     "text": [
      "46.389444422000004 ± 0.4581258635512399, best 47.31111101\n",
      "45.813888828 ± 0.5952758856515811, best 46.55555549\n"
     ]
    }
   ],
   "source": [
    "n201_img16_test = [46.68333334,46.58888893,46.68333334,47.31111101,46.66666655,45.68333332,45.94999992,45.97777775,46.11666670,46.23333336]\n",
    "n201_img16_val = [45.53333324,46.55555549,45.53333324,46.37777776,46.39999985,46.13333323,44.78333331,45.32222219,45.13333331,46.36666666]\n",
    "\n",
    "test_mean = np.mean(n201_img16_test)\n",
    "test_sd = np.std(n201_img16_test)\n",
    "test_max = np.max(n201_img16_test)\n",
    "\n",
    "val_mean = np.mean(n201_img16_val)\n",
    "val_std = np.std(n201_img16_val)\n",
    "val_max = np.max(n201_img16_val)\n",
    "\n",
    "print('{} ± {}, best {}'.format(test_mean,test_sd,test_max))\n",
    "print('{} ± {}, best {}'.format(val_mean,val_std,val_max))"
   ]
  },
  {
   "cell_type": "code",
   "execution_count": 3,
   "metadata": {},
   "outputs": [
    {
     "name": "stdout",
     "output_type": "stream",
     "text": [
      "0.9392962080000002 ± 0.00033778078953070284, best 0.93993723\n"
     ]
    }
   ],
   "source": [
    "# aux_lr 0.1\n",
    "n101 = [0.93963675, 0.93926950, 0.93993723,0.93926950,0.93963675,0.93913595,0.93866855,0.93913595,0.93913595,0.93913595]\n",
    "test_mean = np.mean(n101)\n",
    "test_sd = np.std(n101)\n",
    "test_max = np.max(n101)\n",
    "print('{} ± {}, best {}'.format(test_mean,test_sd,test_max))"
   ]
  },
  {
   "cell_type": "code",
   "execution_count": 6,
   "metadata": {},
   "outputs": [
    {
     "name": "stdout",
     "output_type": "stream",
     "text": [
      "93.911 ± 0.1286429166336019, best 94.14\n"
     ]
    }
   ],
   "source": [
    "ctnas = [93.91, 93.91, 94.14, 93.76, 93.91, 93.91, 93.67, 94.06, 93.85, 93.99]\n",
    "test_mean = np.mean(ctnas)\n",
    "test_sd = np.std(ctnas)\n",
    "test_max = np.max(ctnas)\n",
    "print('{} ± {}, best {}'.format(test_mean,test_sd,test_max))"
   ]
  },
  {
   "cell_type": "code",
   "execution_count": 7,
   "metadata": {},
   "outputs": [
    {
     "name": "stdout",
     "output_type": "stream",
     "text": [
      "93.96399999999998 ± 0.07812809993849813, best 94.02\n"
     ]
    }
   ],
   "source": [
    "renas = [93.99, 94.02, 93.88, 93.77,93.99, 94.02,93.93,94.02,94.00, 94.02]\n",
    "test_mean = np.mean(renas)\n",
    "test_sd = np.std(renas)\n",
    "test_max = np.max(renas)\n",
    "print('{} ± {}, best {}'.format(test_mean,test_sd,test_max))"
   ]
  },
  {
   "cell_type": "code",
   "execution_count": 8,
   "metadata": {},
   "outputs": [
    {
     "name": "stdout",
     "output_type": "stream",
     "text": [
      "0.939566645 ± 0.0007111409624574966, best 0.94143965\n"
     ]
    }
   ],
   "source": [
    "aux_loss_ratio9_eps35 = [0.93987046, 0.93946983,0.93913595,0.94143965,0.93893564,0.93913595,0.93913595,0.94007079,0.93913595,0.93933628]\n",
    "test_mean = np.mean(aux_loss_ratio9_eps35)\n",
    "test_sd = np.std(aux_loss_ratio9_eps35)\n",
    "test_max = np.max(aux_loss_ratio9_eps35)\n",
    "print('{} ± {}, best {}'.format(test_mean,test_sd,test_max))"
   ]
  },
  {
   "cell_type": "code",
   "execution_count": 5,
   "metadata": {},
   "outputs": [
    {
     "name": "stdout",
     "output_type": "stream",
     "text": [
      "0.9404213349999999 ± 0.0007046495523769355, best 0.94113914\n",
      "11\n"
     ]
    }
   ],
   "source": [
    "aux_loss_random_eps35 = [0.94073852, 0.94037126, 0.94100561, 0.94100561, 0.93997061, 0.94023770, 0.94113914, 0.94087205, 0.93863515, 0.94023770]\n",
    "test_mean = np.mean(aux_loss_random_eps35)\n",
    "test_sd = np.std(aux_loss_random_eps35)\n",
    "test_max = np.max(aux_loss_random_eps35)\n",
    "print('{} ± {}, best {}'.format(test_mean,test_sd,test_max))\n",
    "print(11)"
   ]
  },
  {
   "cell_type": "code",
   "execution_count": 3,
   "metadata": {},
   "outputs": [
    {
     "name": "stdout",
     "output_type": "stream",
     "text": [
      "0.9394063840000001 ± 0.0010858068306581774, best 0.94143965\n",
      "8\n"
     ]
    }
   ],
   "source": [
    "aux_loss_force_eps35 = [0.93987046, 0.93913595, 0.93820113, 0.93913595, 0.93906917, 0.94113914, 0.93780049, 0.94143965, 0.93913595, 0.93913595]\n",
    "test_mean = np.mean(aux_loss_force_eps35)\n",
    "test_sd = np.std(aux_loss_force_eps35)\n",
    "test_max = np.max(aux_loss_force_eps35)\n",
    "print('{} ± {}, best {}'.format(test_mean,test_sd,test_max))\n",
    "print(8)"
   ]
  },
  {
   "cell_type": "code",
   "execution_count": null,
   "metadata": {},
   "outputs": [],
   "source": [
    "seed = [1, 20211117, 22222222, 33333333, 44444444, 55555555, 66666666, 77777777, 88888888, 99999999]"
   ]
  },
  {
   "cell_type": "code",
   "execution_count": 3,
   "metadata": {},
   "outputs": [
    {
     "name": "stdout",
     "output_type": "stream",
     "text": [
      "exp renas_time: train time 73.6777 seconds, search time 7.135899999999992 seconds, total 80.8136 seconds\n",
      "exp ctnas_time: train time 188.3658 seconds, search time 750.9721999999999 seconds, total 939.338 seconds\n",
      "exp n101_nar_time: train time 258.7511 seconds, search time 308.51910000000004 seconds, total 567.2702 seconds\n",
      "exp n101_nar_random_tim: train time 294.6348 seconds, search time 53.29090000000002 seconds, total 347.9257 seconds\n",
      "exp n101_nar_force_tim: train time 294.0577 seconds, search time 291.9662 seconds, total 586.0239 seconds\n",
      "exp n201_nar_img16_time: train time 125.8032 seconds, search time 51.5761 seconds, total 177.3793 seconds\n",
      "exp n101_nar_noisy05_time: train time 289.7244 seconds, search time 185.45819999999998 seconds, total 475.1826 seconds\n"
     ]
    }
   ],
   "source": [
    "renas_time = ('renas_time', 73.6777, 80.8136)\n",
    "ctnas_time = ('ctnas_time', 188.3658, 939.3380)\n",
    "n101_nar_time = ('n101_nar_time', 258.7511, 567.2702)\n",
    "n101_nar_random_tim = ('n101_nar_random_tim', 294.6348, 347.9257)\n",
    "n101_nar_force_tim = ('n101_nar_force_tim', 294.0577, 586.0239)\n",
    "n201_nar_img16_time = ('n201_nar_img16_time', 125.8032, 177.3793)\n",
    "n101_nar_noisy05_time = ('n101_nar_noisy05_time', 289.7244, 475.1826)\n",
    "\n",
    "exp_list = [renas_time, ctnas_time, n101_nar_time, n101_nar_random_tim, n101_nar_force_tim, n201_nar_img16_time, n101_nar_noisy05_time]\n",
    "for i in exp_list:\n",
    "    print('exp {}: train time {} seconds, search time {} seconds, total {} seconds'.format(i[0], i[1], i[2]-i[1], i[2]))"
   ]
  },
  {
   "cell_type": "code",
   "execution_count": 4,
   "metadata": {},
   "outputs": [
    {
     "name": "stdout",
     "output_type": "stream",
     "text": [
      "0  : mean 93.86685366666669±0.06610222752340159 max93.913595\n",
      "0.1: mean 93.99038566666667±0.10982179426790473 max94.143965\n",
      "0.3: mean 93.92027266666668±0.009443646765005361 max93.933628\n",
      "0.5: mean 94.0354571±0.07137628901175978 max94.200722\n",
      "0.8: mean 94.04269033333334±0.04515133210536426 max94.100561\n",
      "10 : mean 94.079415±0.031828837144951216 max94.113914\n"
     ]
    }
   ],
   "source": [
    "# noisy\n",
    "import numpy as np\n",
    "nosy0_eps35 = [0.93773371, 0.93913595, 0.93913595 ]\n",
    "test_mean0 = np.mean(nosy0_eps35)\n",
    "test_sd0 = np.std(nosy0_eps35)\n",
    "test_max0 = np.max(nosy0_eps35)\n",
    "\n",
    "nosy01_eps35 = [0.94143965, 0.93933628, 0.93893564]\n",
    "test_mean1 = np.mean(nosy01_eps35)\n",
    "test_sd1 = np.std(nosy01_eps35)\n",
    "test_max1 = np.max(nosy01_eps35)\n",
    "\n",
    "nosy03_eps35 = [0.93913595, 0.93933628, 0.93913595]\n",
    "test_mean3 = np.mean(nosy03_eps35)\n",
    "test_sd3 = np.std(nosy03_eps35)\n",
    "test_max3 = np.max(nosy03_eps35)\n",
    "\n",
    "nosy05_eps35 = [0.94030448, 0.94023770, 0.93967015, 0.94050483, 0.94037126, 0.94113914, 0.93940306, 0.94003739, 0.94200722,0.93987048]\n",
    "test_mean5 = np.mean(nosy05_eps35)\n",
    "test_sd5 = np.std(nosy05_eps35)\n",
    "test_max5 = np.max(nosy05_eps35)\n",
    "\n",
    "nosy08_eps35 = [0.94037126, 0.93990384, 0.94100561]\n",
    "test_mean8 = np.mean(nosy08_eps35)\n",
    "test_sd8 = np.std(nosy08_eps35)\n",
    "test_max8 = np.max(nosy08_eps35)\n",
    "\n",
    "nosy10_eps35 = [0.94113914, 0.94037126, 0.94087205]\n",
    "test_mean10 = np.mean(nosy10_eps35)\n",
    "test_sd10 = np.std(nosy10_eps35)\n",
    "test_max10 = np.max(nosy10_eps35)\n",
    "\n",
    "print('0  : mean {}±{} max{}'.format(test_mean0*100, test_sd0*100, test_max0*100))\n",
    "print('0.1: mean {}±{} max{}'.format(test_mean1*100, test_sd1*100, test_max1*100))\n",
    "print('0.3: mean {}±{} max{}'.format(test_mean3*100, test_sd3*100, test_max3*100))\n",
    "print('0.5: mean {}±{} max{}'.format(test_mean5*100, test_sd5*100, test_max5*100))\n",
    "print('0.8: mean {}±{} max{}'.format(test_mean8*100, test_sd8*100, test_max8*100))\n",
    "print('10 : mean {}±{} max{}'.format(test_mean10*100, test_sd10*100, test_max10*100))"
   ]
  },
  {
   "cell_type": "code",
   "execution_count": null,
   "metadata": {},
   "outputs": [],
   "source": []
  }
 ],
 "metadata": {
  "interpreter": {
   "hash": "c4d229c0cbf1473bc8b165130977e45c7704cd07f60e7c7324b1f62c36056d5f"
  },
  "kernelspec": {
   "display_name": "Python 3.7.8 64-bit ('rookie': conda)",
   "name": "python3"
  },
  "language_info": {
   "codemirror_mode": {
    "name": "ipython",
    "version": 3
   },
   "file_extension": ".py",
   "mimetype": "text/x-python",
   "name": "python",
   "nbconvert_exporter": "python",
   "pygments_lexer": "ipython3",
   "version": "3.7.8"
  },
  "orig_nbformat": 4
 },
 "nbformat": 4,
 "nbformat_minor": 2
}