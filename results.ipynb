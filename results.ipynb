{
 "cells": [
  {
   "cell_type": "code",
   "execution_count": 4,
   "metadata": {},
   "outputs": [
    {
     "name": "stdout",
     "output_type": "stream",
     "text": [
      "93.9236112 ± 0.12053520259475937, best 94.220754\n"
     ]
    }
   ],
   "source": [
    "import numpy as np\n",
    "n101_noisy0_baseline = [0.93913595, 0.93913595, 0.93913595, 0.93686565,0.93913595,0.93933628 ,0.93913595,0.93913595,0.93913595,0.94220754]\n",
    "test_mean = np.mean(n101_noisy0_baseline)\n",
    "test_sd = np.std(n101_noisy0_baseline)\n",
    "test_max = np.max(n101_noisy0_baseline)\n",
    "print('{} ± {}, best {}'.format(test_mean*100,test_sd*100,test_max*100))"
   ]
  },
  {
   "cell_type": "code",
   "execution_count": 5,
   "metadata": {},
   "outputs": [
    {
     "name": "stdout",
     "output_type": "stream",
     "text": [
      "93.98404090000001 ± 0.08023169138245514, best 94.17401199999999\n"
     ]
    }
   ],
   "source": [
    "import numpy as np\n",
    "n101_noisy03 = [ 0.93913595, 0.93933628, 0.94174012, 0.93913595, 0.94023770, 0.94020432, 0.93913595, 0.94037126, 0.93997061, 0.93913595]\n",
    "test_mean = np.mean(n101_noisy03)\n",
    "test_sd = np.std(n101_noisy03)\n",
    "test_max = np.max(n101_noisy03)\n",
    "print('{} ± {}, best {}'.format(test_mean*100,test_sd*100,test_max*100))"
   ]
  },
  {
   "cell_type": "code",
   "execution_count": 6,
   "metadata": {},
   "outputs": [
    {
     "name": "stdout",
     "output_type": "stream",
     "text": [
      "94.05348559999999 ± 0.08674733268659998, best 94.194045\n"
     ]
    }
   ],
   "source": [
    "import numpy as np\n",
    "n101_noisy05 = [ 0.94194045, 0.94113914, 0.94050483, 0.93913595, 0.94053821, 0.94143965, 0.94067172, 0.93913595, 0.93997061, 0.94087205]\n",
    "test_mean = np.mean(n101_noisy05)\n",
    "test_sd = np.std(n101_noisy05)\n",
    "test_max = np.max(n101_noisy05)\n",
    "print('{} ± {}, best {}'.format(test_mean*100,test_sd*100,test_max*100))"
   ]
  },
  {
   "cell_type": "code",
   "execution_count": 3,
   "metadata": {},
   "outputs": [
    {
     "name": "stdout",
     "output_type": "stream",
     "text": [
      "94.03946299999998 ± 0.05211056761157025, best 94.143965\n"
     ]
    }
   ],
   "source": [
    "import numpy as np\n",
    "n101_noisy07 = [0.94070512 , 0.94030448, 0.94023770, 0.94143965, 0.94013755, 0.93993721, 0.94093885, 0.94020432, 0.93946983, 0.94057159]\n",
    "test_mean = np.mean(n101_noisy07)\n",
    "test_sd = np.std(n101_noisy07)\n",
    "test_max = np.max(n101_noisy07)\n",
    "print('{} ± {}, best {}'.format(test_mean*100,test_sd*100,test_max*100))"
   ]
  },
  {
   "cell_type": "code",
   "execution_count": 7,
   "metadata": {},
   "outputs": [
    {
     "name": "stdout",
     "output_type": "stream",
     "text": [
      "94.04213349999999 ± 0.07046495523769356, best 94.113914\n"
     ]
    }
   ],
   "source": [
    "import numpy as np\n",
    "n101_noisy1 = [ 0.94073852, 0.94037126, 0.94100561, 0.94100561, 0.93997061, 0.94023770, 0.94113914, 0.94087205, 0.93863515, 0.94023770]\n",
    "test_mean = np.mean(n101_noisy1)\n",
    "test_sd = np.std(n101_noisy1)\n",
    "test_max = np.max(n101_noisy1)\n",
    "print('{} ± {}, best {}'.format(test_mean*100,test_sd*100,test_max*100))"
   ]
  },
  {
   "cell_type": "code",
   "execution_count": 8,
   "metadata": {},
   "outputs": [
    {
     "name": "stdout",
     "output_type": "stream",
     "text": [
      "94.113000001 ± 0.1869310642949547, best 94.30666667\n",
      "91.227866654 ± 0.18519174895994964, best 91.42399999\n"
     ]
    }
   ],
   "source": [
    "import numpy as np\n",
    "n201_cifar10_test_noisy0_baseline = [ 94.30666667, 93.93000000, 93.85000000, 94.24000000, 93.85000000, 94.30666667, 94.19000000, 93.93333333, 94.21666667, 94.30666667]\n",
    "n201_cifar10_val_noisy0_baseline = [ 91.33599999, 90.76799998, 91.11866665, 91.34399999, 91.11866665, 91.33599999, 91.34800000, 91.14933331, 91.42399999, 91.33599999]\n",
    "\n",
    "test_mean = np.mean(n201_cifar10_test_noisy0_baseline)\n",
    "test_sd = np.std(n201_cifar10_test_noisy0_baseline)\n",
    "test_max = np.max(n201_cifar10_test_noisy0_baseline)\n",
    "\n",
    "val_mean = np.mean(n201_cifar10_val_noisy0_baseline)\n",
    "val_std = np.std(n201_cifar10_val_noisy0_baseline)\n",
    "val_max = np.max(n201_cifar10_val_noisy0_baseline)\n",
    "\n",
    "\n",
    "print('{} ± {}, best {}'.format(test_mean,test_sd,test_max))\n",
    "print('{} ± {}, best {}'.format(val_mean,val_std,val_max))"
   ]
  },
  {
   "cell_type": "code",
   "execution_count": 1,
   "metadata": {},
   "outputs": [
    {
     "name": "stdout",
     "output_type": "stream",
     "text": [
      "94.32633332600001 ± 0.04969797750859483, best 94.37333333\n",
      "91.443533318 ± 0.10268919462316717, best 91.60666665\n"
     ]
    }
   ],
   "source": [
    "import numpy as np\n",
    "n201_cifar10_test_noisy05 = [ 94.3066666, 94.37333333, 94.30666667, 94.34333333, 94.21000000, 94.37333333, 94.37333333, 94.30666667, 94.37333333, 94.29666667]\n",
    "n201_cifar10_val_noisy05 = [ 91.33599999, 91.60666665, 91.33599999, 91.43999998, 91.33399998, 91.49599998, 91.60666665, 91.33599999, 91.49599998, 91.44799999]\n",
    "\n",
    "test_mean = np.mean(n201_cifar10_test_noisy05)\n",
    "test_sd = np.std(n201_cifar10_test_noisy05)\n",
    "test_max = np.max(n201_cifar10_test_noisy05)\n",
    "\n",
    "val_mean = np.mean(n201_cifar10_val_noisy05)\n",
    "val_std = np.std(n201_cifar10_val_noisy05)\n",
    "val_max = np.max(n201_cifar10_val_noisy05)\n",
    "\n",
    "\n",
    "print('{} ± {}, best {}'.format(test_mean,test_sd,test_max))\n",
    "print('{} ± {}, best {}'.format(val_mean,val_std,val_max))"
   ]
  },
  {
   "cell_type": "code",
   "execution_count": 9,
   "metadata": {},
   "outputs": [
    {
     "name": "stdout",
     "output_type": "stream",
     "text": [
      "72.48999995 ± 0.5242836321559812, best 73.25999994\n",
      "71.984333266 ± 0.5867159814776953, best 72.95999992\n"
     ]
    }
   ],
   "source": [
    "import numpy as np\n",
    "n201_cifar100_test_noisy0_baseline = [ 72.37333326, 72.27999995, 73.25999994, 72.27999993, 71.74000005, 72.37333326, 73.25999994, 72.37333326, 73.13999999, 71.81999992]\n",
    "n201_cifar100_val_noisy0_baseline = [ 71.65999996, 71.58999996, 72.39999987, 72.95999992, 70.81999996, 71.65999996, 72.39999987, 71.65999996, 72.51333331, 72.17999989]\n",
    "\n",
    "test_mean = np.mean(n201_cifar100_test_noisy0_baseline)\n",
    "test_sd = np.std(n201_cifar100_test_noisy0_baseline)\n",
    "test_max = np.max(n201_cifar100_test_noisy0_baseline)\n",
    "\n",
    "val_mean = np.mean(n201_cifar100_val_noisy0_baseline)\n",
    "val_std = np.std(n201_cifar100_val_noisy0_baseline)\n",
    "val_max = np.max(n201_cifar100_val_noisy0_baseline)\n",
    "\n",
    "\n",
    "print('{} ± {}, best {}'.format(test_mean,test_sd,test_max))\n",
    "print('{} ± {}, best {}'.format(val_mean,val_std,val_max))"
   ]
  },
  {
   "cell_type": "code",
   "execution_count": 2,
   "metadata": {},
   "outputs": [
    {
     "name": "stdout",
     "output_type": "stream",
     "text": [
      "72.892666632 ± 0.3727429973981235, best 73.51333332\n",
      "72.54399994999999 ± 0.43622829099248556, best 73.49333336\n"
     ]
    }
   ],
   "source": [
    "import numpy as np\n",
    "n201_cifar100_test_noisy05 = [ 72.88000002, 72.75999999, 73.13999999, 73.21999997, 72.23999998, 72.99333324, 72.37333326, 73.13999999, 73.51333332, 72.66666656]\n",
    "n201_cifar100_val_noisy05 = [ 72.51333330, 72.51999991, 72.51333331, 72.74666661, 72.71999991, 72.16666661, 71.65999996, 72.51333331, 73.49333336, 72.59333322]\n",
    "\n",
    "test_mean = np.mean(n201_cifar100_test_noisy05)\n",
    "test_sd = np.std(n201_cifar100_test_noisy05)\n",
    "test_max = np.max(n201_cifar100_test_noisy05)\n",
    "\n",
    "val_mean = np.mean(n201_cifar100_val_noisy05)\n",
    "val_std = np.std(n201_cifar100_val_noisy05)\n",
    "val_max = np.max(n201_cifar100_val_noisy05)\n",
    "\n",
    "\n",
    "print('{} ± {}, best {}'.format(test_mean,test_sd,test_max))\n",
    "print('{} ± {}, best {}'.format(val_mean,val_std,val_max))"
   ]
  },
  {
   "cell_type": "code",
   "execution_count": 10,
   "metadata": {},
   "outputs": [
    {
     "name": "stdout",
     "output_type": "stream",
     "text": [
      "46.45999994900001 ± 0.3219232696309467, best 46.93333335\n",
      "45.933333291000004 ± 0.5118050804098521, best 46.49999992\n"
     ]
    }
   ],
   "source": [
    "import numpy as np\n",
    "n201_img16_test_noisy0_baseline = [ 46.58888880, 46.13333323, 45.87777768, 46.47777770, 46.93333335, 46.58888880, 46.50000004, 46.93333335, 46.43333331, 46.13333323]\n",
    "n201_img6_val_noisy0_baseline = [ 46.48888883, 45.13333330, 45.39999991, 46.26666664, 45.98333331, 46.48888883, 46.49999992, 45.98333331, 45.95555556, 45.13333330]\n",
    "\n",
    "test_mean = np.mean(n201_img16_test_noisy0_baseline)\n",
    "test_sd = np.std(n201_img16_test_noisy0_baseline)\n",
    "test_max = np.max(n201_img16_test_noisy0_baseline)\n",
    "\n",
    "val_mean = np.mean(n201_img6_val_noisy0_baseline)\n",
    "val_std = np.std(n201_img6_val_noisy0_baseline)\n",
    "val_max = np.max(n201_img6_val_noisy0_baseline)\n",
    "\n",
    "\n",
    "print('{} ± {}, best {}'.format(test_mean,test_sd,test_max))\n",
    "print('{} ± {}, best {}'.format(val_mean,val_std,val_max))"
   ]
  },
  {
   "cell_type": "code",
   "execution_count": 3,
   "metadata": {},
   "outputs": [
    {
     "name": "stdout",
     "output_type": "stream",
     "text": [
      "46.660555493 ± 0.2380664069293986, best 47.31111101\n",
      "46.156111037 ± 0.3739219075773703, best 46.49999995\n"
     ]
    }
   ],
   "source": [
    "import numpy as np\n",
    "n201_img16_test_noisy05 = [ 46.58888880, 46.38333321, 46.68333334, 46.66666655, 46.43333331, 46.66666655, 46.58888880, 47.31111101, 46.60000002, 46.68333334]\n",
    "n201_img16_val_noisy05 = [ 46.48888883,  45.88333326, 45.53333324, 46.39999985, 45.95555556, 46.39999985, 46.48888883, 46.37777776, 46.49999995, 45.53333324]\n",
    "\n",
    "test_mean = np.mean(n201_img16_test_noisy05)\n",
    "test_sd = np.std(n201_img16_test_noisy05)\n",
    "test_max = np.max(n201_img16_test_noisy05)\n",
    "\n",
    "val_mean = np.mean(n201_img16_val_noisy05)\n",
    "val_std = np.std(n201_img16_val_noisy05)\n",
    "val_max = np.max(n201_img16_val_noisy05)\n",
    "\n",
    "\n",
    "print('{} ± {}, best {}'.format(test_mean,test_sd,test_max))\n",
    "print('{} ± {}, best {}'.format(val_mean,val_std,val_max))"
   ]
  },
  {
   "cell_type": "code",
   "execution_count": 2,
   "metadata": {},
   "outputs": [
    {
     "name": "stdout",
     "output_type": "stream",
     "text": [
      "93.911 ± 0.1286429166336019, best 94.14\n"
     ]
    }
   ],
   "source": [
    "import numpy as np\n",
    "ctnas = [93.91, 93.91, 94.14, 93.76, 93.91, 93.91, 93.67, 94.06, 93.85, 93.99]\n",
    "test_mean = np.mean(ctnas)\n",
    "test_sd = np.std(ctnas)\n",
    "test_max = np.max(ctnas)\n",
    "print('{} ± {}, best {}'.format(test_mean,test_sd,test_max))"
   ]
  },
  {
   "cell_type": "code",
   "execution_count": 3,
   "metadata": {},
   "outputs": [
    {
     "name": "stdout",
     "output_type": "stream",
     "text": [
      "93.96399999999998 ± 0.07812809993849813, best 94.02\n"
     ]
    }
   ],
   "source": [
    "import numpy as np\n",
    "renas = [93.99, 94.02, 93.88, 93.77,93.99, 94.02,93.93,94.02,94.00, 94.02]\n",
    "test_mean = np.mean(renas)\n",
    "test_sd = np.std(renas)\n",
    "test_max = np.max(renas)\n",
    "print('{} ± {}, best {}'.format(test_mean,test_sd,test_max))"
   ]
  },
  {
   "cell_type": "code",
   "execution_count": 1,
   "metadata": {},
   "outputs": [
    {
     "name": "stdout",
     "output_type": "stream",
     "text": [
      "exp renas_time: train time 73.6777 seconds, search time 7.135899999999992 seconds, total 80.8136 seconds\n",
      "exp ctnas_time: train time 188.3658 seconds, search time 750.9721999999999 seconds, total 939.338 seconds\n",
      "exp n101_noisy0_time: train time 275.8983 seconds, search time 317.64979999999997 seconds, total 593.5481 seconds\n",
      "exp n101_noisy05_time: train time 292.6134 seconds, search time 189.93719999999996 seconds, total 482.5506 seconds\n",
      "exp n101_noisy1_time: train time 255.8604 seconds, search time 53.51419999999999 seconds, total 309.3746 seconds\n",
      "exp n201_noisy0_time: train time 119.9442 seconds, search time 53.984399999999994 seconds, total 173.9286 seconds\n",
      "exp n201_noisy05_time: train time 118.3269 seconds, search time 50.6602 seconds, total 168.9871 seconds\n"
     ]
    }
   ],
   "source": [
    "# sota\n",
    "renas_time = ('renas_time', 73.6777, 80.8136)\n",
    "ctnas_time = ('ctnas_time', 188.3658, 939.3380)\n",
    "\n",
    "n101_noisy0_time = ('n101_noisy0_time', 275.8983, 593.5481)\n",
    "n101_noisy05_time = ('n101_noisy05_time', 292.6134, 482.5506)\n",
    "n101_noisy1_time = ('n101_noisy1_time', 255.8604, 309.3746)\n",
    "\n",
    "n201_noisy0_time = ('n201_noisy0_time', 119.9442, 173.9286)\n",
    "n201_noisy05_time = ('n201_noisy05_time', 118.3269, 168.9871)\n",
    "\n",
    "exp_list = [renas_time, ctnas_time, n101_noisy0_time, n101_noisy05_time, n101_noisy1_time, n201_noisy0_time, n201_noisy05_time]\n",
    "for i in exp_list:\n",
    "    print('exp {}: train time {} seconds, search time {} seconds, total {} seconds'.format(i[0], i[1], i[2]-i[1], i[2]))"
   ]
  },
  {
   "cell_type": "code",
   "execution_count": null,
   "metadata": {},
   "outputs": [],
   "source": [
    "seed = [1, 20211117, 22222222, 33333333, 44444444, 55555555, 66666666, 77777777, 88888888, 99999999]"
   ]
  },
  {
   "cell_type": "code",
   "execution_count": 2,
   "metadata": {},
   "outputs": [
    {
     "name": "stdout",
     "output_type": "stream",
     "text": [
      "n101_top1: 94.0150909 ± 0.1109650522943591, best 94.194045\n",
      "n101_top3: 94.0441372 ± 0.08764238753799293, best 94.194045\n",
      "n101_top7: 94.0548211 ± 0.08466111254814608, best 94.194045\n",
      "n101_top10: 94.0548211 ± 0.08466111254814608, best 94.194045\n"
     ]
    }
   ],
   "source": [
    "import numpy as np\n",
    "n101_top1 = ('n101_top1',[0.94194045, 0.93987046, 0.94050483, 0.93820113, 0.94053821, 0.94143965, 0.94067172, 0.93843482, 0.93997061, 0.93993721])\n",
    "n101_top3 = ('n101_top3',[0.94194045, 0.94113914, 0.94050483, 0.93913595, 0.94053821, 0.94143965, 0.94067172, 0.93913595, 0.93997061, 0.93993721])\n",
    "n101_top7 = ('n101_top7',[0.94194045, 0.94113914, 0.94050483, 0.93926950, 0.94053821, 0.94143965, 0.94067172, 0.93913595, 0.93997061, 0.94087205])\n",
    "n101_top10 = ('n101_top10',[0.94194045, 0.94113914, 0.94050483, 0.93926950, 0.94053821, 0.94143965, 0.94067172, 0.93913595, 0.93997061, 0.94087205])\n",
    "\n",
    "\n",
    "r_list = [n101_top1, n101_top3, n101_top7, n101_top10]\n",
    "for itm in r_list:\n",
    "    test_mean = np.mean(itm[1])\n",
    "    test_sd = np.std(itm[1])\n",
    "    test_max = np.max(itm[1])\n",
    "    print('{}: {} ± {}, best {}'.format(itm[0], test_mean*100,test_sd*100,test_max*100))"
   ]
  },
  {
   "cell_type": "code",
   "execution_count": 4,
   "metadata": {},
   "outputs": [
    {
     "name": "stdout",
     "output_type": "stream",
     "text": [
      "n101_train1024_random: 94.028445 ± 0.06675991332229447, best 94.100561\n",
      "n101_train2048_random: 94.05448639999999 ± 0.032807784128772235, best 94.100561\n",
      "n101_train4236_random: 94.05448639999999 ± 0.032807784128772235, best 94.100561\n",
      "n101_train8192_random: 94.05448639999999 ± 0.032807784128772235, best 94.100561\n",
      "n101_train16384_random: 94.0551542 ± 0.0302036059926637, best 94.093883\n",
      "n101_train1024_itv: 93.6531782 ± 0.13042236031969603, best 93.913595\n",
      "n101_train2048_itv: 93.91359539999999 ± 0.02568781566890999, best 93.940304\n",
      "n101_train4236_itv: 93.8842146 ± 0.09004331364982275, best 93.953659\n",
      "n101_train8192_itv: 93.9790334 ± 0.12110908421517812, best 94.220754\n",
      "n101_train16384_itv: 93.91893680000001 ± 0.010683599999996574, best 93.940304\n"
     ]
    }
   ],
   "source": [
    "import numpy as np\n",
    "n101_train1024_random = ('n101_train1024_random',[0.93910257, 0.94100561, 0.94023770, 0.94083867, 0.94023770])\n",
    "n101_train2048_random = ('n101_train2048_random',[0.94037126, 0.94100561, 0.94023770, 0.94087205, 0.94023770])\n",
    "n101_train4236_random = ('n101_train4236_random',[0.94037126, 0.94100561, 0.94023770, 0.94087205, 0.94023770])\n",
    "n101_train8192_random = ('n101_train8192_random',[0.94037126, 0.94100561, 0.94023770, 0.94087205, 0.94023770])\n",
    "n101_train16384_random = ('n101_train16384_random',[0.94047143, 0.94093883, 0.94023770, 0.94087205, 0.94023770])\n",
    "\n",
    "r_list = [n101_train1024_random, n101_train2048_random, n101_train4236_random, n101_train8192_random, n101_train16384_random]\n",
    "for itm in r_list:\n",
    "    test_mean = np.mean(itm[1])\n",
    "    test_sd = np.std(itm[1])\n",
    "    test_max = np.max(itm[1])\n",
    "    print('{}: {} ± {}, best {}'.format(itm[0], test_mean*100,test_sd*100,test_max*100))\n",
    "\n",
    "n101_train1024_itv = ('n101_train1024_itv',[0.93579725, 0.93596423, 0.93579725, 0.93913595, 0.93596423])\n",
    "n101_train2048_itv = ('n101_train2048_itv',[0.93913595, 0.93913595, 0.93933628, 0.93866855, 0.93940304])\n",
    "n101_train4236_itv = ('n101_train4236_itv',[0.93933628, 0.93706596, 0.93953659, 0.93913595, 0.93913595])\n",
    "n101_train8192_itv = ('n101_train8192_itv',[0.93933628, 0.93913595, 0.93913595, 0.93913595, 0.94220754])\n",
    "n101_train16384_itv = ('n101_train16384_itv',[0.93913595, 0.93913595, 0.93913595, 0.93913595, 0.93940304])\n",
    "\n",
    "r_list = [n101_train1024_itv, n101_train2048_itv, n101_train4236_itv, n101_train8192_itv, n101_train16384_itv]\n",
    "for itm in r_list:\n",
    "    test_mean = np.mean(itm[1])\n",
    "    test_sd = np.std(itm[1])\n",
    "    test_max = np.max(itm[1])\n",
    "    print('{}: {} ± {}, best {}'.format(itm[0], test_mean*100,test_sd*100,test_max*100))\n",
    "\n",
    "\n",
    "# n101_train1024_sta = ('n101_train1024_sta',[0.93579725, 0.93596423, 0.93579725, 0.93913595, 0.93596423])\n",
    "# n101_train2048_sta = ('n101_train2048_sta',[0.93913595, 0.93913595, 0.93933628, 0.93913595, 0.93926950])\n",
    "# n101_train4236_sta = ('n101_train4236_sta',[0.93913595, 0.93686565, 0.93933628, 0.93913595, 0.94220754])\n",
    "# n101_train8192_sta = ('n101_train8192_sta',[0.93913595, 0.93890224, 0.93913595, 0.93913595, 0.93913595])\n",
    "# n101_train16384_sta = ('n101_train16384_sta',[0.93913595, 0.93913595, 0.93913595, 0.93913595, 0.93913595])\n",
    "\n",
    "# r_list = [n101_train1024_sta, n101_train2048_sta, n101_train4236_sta, n101_train8192_sta, n101_train16384_sta]\n",
    "# for itm in r_list:\n",
    "#     test_mean = np.mean(itm[1])\n",
    "#     test_sd = np.std(itm[1])\n",
    "#     test_max = np.max(itm[1])\n",
    "#     print('{}: {} ± {}, best {}'.format(itm[0], test_mean*100,test_sd*100,test_max*100))"
   ]
  },
  {
   "cell_type": "code",
   "execution_count": 5,
   "metadata": {},
   "outputs": [
    {
     "name": "stdout",
     "output_type": "stream",
     "text": [
      "0.7971123999999999 ± 0.007909507597821754, best 0.809053\n"
     ]
    }
   ],
   "source": [
    "import numpy as np\n",
    "n101_noisy05_auxloss_ktau = [ 0.789354, 0.808150, 0.789292, 0.791513, 0.799387, 0.806449, 0.786918, 0.797381, 0.793627, 0.809053]\n",
    "ktau_mean = np.mean(n101_noisy05_auxloss_ktau)\n",
    "ktau_sd = np.std(n101_noisy05_auxloss_ktau)\n",
    "ktau_max = np.max(n101_noisy05_auxloss_ktau)\n",
    "print('{} ± {}, best {}'.format(ktau_mean,ktau_sd,ktau_max))"
   ]
  },
  {
   "cell_type": "code",
   "execution_count": 6,
   "metadata": {},
   "outputs": [
    {
     "name": "stdout",
     "output_type": "stream",
     "text": [
      "93.81143140000002 ± 0.0776866671845317, best 93.913595\n",
      "93.8595082 ± 0.035921135602319555, best 93.913595\n",
      "94.01642679999999 ± 0.10999209297653796, best 94.220754\n"
     ]
    }
   ],
   "source": [
    "# top1\n",
    "import numpy as np\n",
    "n101_tpk1_noisy05_noauxloss =   [0.93886884, 0.93913595, 0.93796742, 0.93746660, 0.93713276]#, 0.93913595, 0.93896902, 0.93890224, 0.93696580, 0.93840144]\n",
    "test_mean = np.mean(n101_tpk1_noisy05_noauxloss)\n",
    "test_sd = np.std(n101_tpk1_noisy05_noauxloss)\n",
    "test_max = np.max(n101_tpk1_noisy05_noauxloss)\n",
    "print('{} ± {}, best {}'.format(test_mean*100,test_sd*100,test_max*100))\n",
    "\n",
    "# top3\n",
    "\n",
    "t3 =                            [0.93886884, 0.93913595, 0.93850160, 0.93816773, 0.93830129]#, 0.93913595, 0.93896902, 0.93913595, 0.93723291, 0.93973692]\n",
    "t3_mean = np.mean(t3)\n",
    "t3_std = np.std(t3)\n",
    "t3_max = np.max(t3)\n",
    "print('{} ± {}, best {}'.format(t3_mean*100,t3_std*100,t3_max*100))\n",
    "\n",
    "#  top5\n",
    "import numpy as np\n",
    "n101_noisy05_noauxloss =        [0.94037126, 0.93967015, 0.93913595, 0.94220754, 0.93943644]#, 0.93933630, 0.94023770, 0.93913595, 0.93896902, 0.94023770]\n",
    "test_mean = np.mean(n101_noisy05_noauxloss)\n",
    "test_sd = np.std(n101_noisy05_noauxloss)\n",
    "test_max = np.max(n101_noisy05_noauxloss)\n",
    "print('{} ± {}, best {}'.format(test_mean*100,test_sd*100,test_max*100))"
   ]
  },
  {
   "cell_type": "code",
   "execution_count": 3,
   "metadata": {},
   "outputs": [
    {
     "name": "stdout",
     "output_type": "stream",
     "text": [
      "94.0244398  ±  0.0763206893663856\n",
      "0.94100563\n",
      "94.028446  ±  0.0695731048552519\n",
      "0.94100563\n",
      "93.9536586  ±  0.10111213664560541\n",
      "0.94113914\n",
      "94.03712580000001  ±  0.12840648442099767\n",
      "0.94194045\n"
     ]
    }
   ],
   "source": [
    "# #tiers ablation\n",
    "import numpy as np\n",
    "\n",
    "tier3_k1 = [0.94100563, 0.93987046, 0.94087205, 0.93893564, 0.94053821]#, 0.93973690, 0.93913595,0.94003739,0.94087205,0.93936966]\n",
    "t3_mean_k1 = np.mean(tier3_k1)\n",
    "t3_std_k1 = np.std(tier3_k1)\n",
    "print(t3_mean_k1*100, ' ± ', t3_std_k1*100)\n",
    "print(np.max(tier3_k1))\n",
    "\n",
    "tier3_k5 = [0.94100563, 0.93987046, 0.94087205, 0.93913595, 0.94053821]#, 0.93973690, 0.93993721, 0.94003739, 0.94087205, 0.94083867]\n",
    "t3_mean_k5 = np.mean(tier3_k5)\n",
    "t3_std_k5 = np.std(tier3_k5)\n",
    "print(t3_mean_k5*100, ' ± ', t3_std_k5*100)\n",
    "print(np.max(tier3_k5))\n",
    "\n",
    "tier7_k1 = [0.94113914, 0.93913595, 0.93926948, 0.94003739, 0.93810097]#, 0.94234109, 0.94100563, 0.93940304, 0.93770031, 0.93836806]\n",
    "t7_mean_k1 = np.mean(tier7_k1)\n",
    "t7_std_k1 = np.std(tier7_k1)\n",
    "print(t7_mean_k1*100, ' ± ', t7_std_k1*100)\n",
    "print(np.max(tier7_k1))\n",
    "\n",
    "tier7_k5 = [0.94113914, 0.94047141, 0.94194045, 0.94020432, 0.93810097]#, 0.94234109, 0.94100563, 0.93940304, 0.93913595, 0.93913595]\n",
    "t7_mean_k5 = np.mean(tier7_k5)\n",
    "t7_std_k5 = np.std(tier7_k5)\n",
    "print(t7_mean_k5*100, ' ± ', t7_std_k5*100)\n",
    "print(np.max(tier7_k5))"
   ]
  },
  {
   "cell_type": "code",
   "execution_count": 85,
   "metadata": {},
   "outputs": [
    {
     "name": "stdout",
     "output_type": "stream",
     "text": [
      "94.00440739999999  ±  0.07561556951210402\n",
      "94.113914\n",
      "94.0190976  ±  0.07696617319991932\n",
      "94.113914\n",
      "94.0190976  ±  0.07696617319991932\n",
      "94.113914\n"
     ]
    }
   ],
   "source": [
    "import numpy as np\n",
    "\n",
    "rank_k1 = [0.94067174, 0.93940306, 0.93913595, 0.93987048, 0.94113914]#, 0.93950319, 0.94100563,0.94067174, 0.93993721, 0.93840144]\n",
    "\n",
    "rank_k1_mean = np.mean(rank_k1)\n",
    "rank_k1_std = np.std(rank_k1)\n",
    "print(rank_k1_mean*100, ' ± ', rank_k1_std*100)\n",
    "print(np.max(rank_k1)*100)\n",
    "# print(np.min(rank_k1)*100)\n",
    "\n",
    "\n",
    "rank_k3 = [0.94073852, 0.93940306, 0.93916933, 0.94050483, 0.94113914]#, 0.94023770, 0.94100563, 0.94067174, 0.93993721, 0.94050483]\n",
    "\n",
    "rank_k3_mean = np.mean(rank_k3)\n",
    "rank_k3_std = np.std(rank_k3)\n",
    "print(rank_k3_mean*100, ' ± ', rank_k3_std*100)\n",
    "print(np.max(rank_k3)*100)\n",
    "# print(np.min(rank_k3)*100)\n",
    "\n",
    "\n",
    "rank_k5 = [0.94073852, 0.93940306, 0.93916933, 0.94050483, 0.94113914]#,  0.94220754, 0.94100563,0.94067174, 0.93993721, 0.94050483]\n",
    "\n",
    "rank_k5_mean = np.mean(rank_k5)\n",
    "rank_k5_std = np.std(rank_k5)\n",
    "print(rank_k5_mean*100, ' ± ', rank_k5_std*100)\n",
    "print(np.max(rank_k5)*100)\n",
    "# print(np.min(rank_k5)*100)\n"
   ]
  },
  {
   "cell_type": "code",
   "execution_count": 21,
   "metadata": {},
   "outputs": [
    {
     "name": "stdout",
     "output_type": "stream",
     "text": [
      "94.0211016  ±  0.12116059312103063\n",
      "94.194045\n",
      "94.0651716  ±  0.09198285877618648\n",
      "94.194045\n",
      "94.0651716  ±  0.09198285877618648\n",
      "94.194045\n"
     ]
    }
   ],
   "source": [
    "\n",
    "k1 = [0.94194045, 0.93987046, 0.94050483, 0.93820113, 0.94053821]#, 0.94143965, 0.94067172, 0.93843482, 0.93997061, 0.93993721]\n",
    "k1_mean = np.mean(k1)\n",
    "k1_std = np.std(k1)\n",
    "print(k1_mean*100, ' ± ', k1_std*100)\n",
    "print(np.max(k1)*100)\n",
    "\n",
    "k3 = [0.94194045, 0.94113914, 0.94050483, 0.93913595, 0.94053821]#, 0.94143965, 0.94067172, 0.93913595, 0.93997061, 0.93993721]\n",
    "k3_mean = np.mean(k3)\n",
    "k3_std = np.std(k3)\n",
    "print(k3_mean*100, ' ± ', k3_std*100)\n",
    "print(np.max(k3)*100)\n",
    "\n",
    "k5 = [ 0.94194045, 0.94113914, 0.94050483, 0.93913595, 0.94053821]#, 0.94143965, 0.94067172, 0.93913595, 0.93997061, 0.94087205]\n",
    "k5_mean = np.mean(k5)\n",
    "k5_std = np.std(k5)\n",
    "print(k5_mean*100, ' ± ', k5_std*100)\n",
    "print(np.max(k5)*100)"
   ]
  },
  {
   "cell_type": "code",
   "execution_count": 4,
   "metadata": {},
   "outputs": [
    {
     "name": "stdout",
     "output_type": "stream",
     "text": [
      "93.7012548  ±  0.2695579930860141\n",
      "93.993721\n",
      "93.83012800000002  ±  0.19246447087813448\n",
      "93.993721\n",
      "93.8895564  ±  0.15727023551021974\n",
      "94.037126\n"
     ]
    }
   ],
   "source": [
    "conv_k1 = [0.93376068, 0.93913595, 0.93846822, 0.93376068, 0.93993721]#, 0.93579725, 0.93576390, 0.94003739, 0.93940304, 0.93913595]\n",
    "k1_mean = np.mean(conv_k1)\n",
    "k1_std = np.std(conv_k1)\n",
    "print(k1_mean*100, ' ± ', k1_std*100)\n",
    "print(np.max(conv_k1)*100)\n",
    "\n",
    "conv_k3 = [0.93876870, 0.93913595, 0.93913595, 0.93452859, 0.93993721]#, 0.93913595, 0.93576390, 0.94003739, 0.93940304, 0.93913595]\n",
    "k1_mean = np.mean(conv_k3)\n",
    "k1_std = np.std(conv_k3)\n",
    "print(k1_mean*100, ' ± ', k1_std*100)\n",
    "print(np.max(conv_k3)*100)\n",
    "conv_k5 = [0.94037126, 0.93913595, 0.93913595, 0.93589745, 0.93993721]#, 0.93913595, 0.93679887, 0.94003739, 0.93940304, 0.93913595]\n",
    "k1_mean = np.mean(conv_k5)\n",
    "k1_std = np.std(conv_k5)\n",
    "print(k1_mean*100, ' ± ', k1_std*100)\n",
    "print(np.max(conv_k5)*100)"
   ]
  },
  {
   "cell_type": "code",
   "execution_count": 18,
   "metadata": {},
   "outputs": [
    {
     "name": "stdout",
     "output_type": "stream",
     "text": [
      "93.9289534  ±  0.10815571923777345\n",
      "94.113914\n",
      "93.993055  ±  0.11314853424238185\n",
      "94.143963\n",
      "93.9957258  ±  0.11088384976974579\n",
      "94.143963\n"
     ]
    }
   ],
   "source": [
    "flops_k1 = [0.93933630, 0.94113914, 0.93883548, 0.93933626, 0.93780049]#, 0.93933628, 0.93987048, 0.93900239, 0.93993721, 0.93913597]\n",
    "k1_mean = np.mean(flops_k1)\n",
    "k1_std = np.std(flops_k1)\n",
    "print(k1_mean*100, ' ± ', k1_std*100)\n",
    "print(np.max(flops_k1)*100)\n",
    "flops_k3 = [0.94143963, 0.94113914, 0.93903579, 0.93933626, 0.93870193]#, 0.93987046, 0.93987048, 0.93967013, 0.93993721, 0.94007079]\n",
    "k1_mean = np.mean(flops_k3)\n",
    "k1_std = np.std(flops_k3)\n",
    "print(k1_mean*100, ' ± ', k1_std*100)\n",
    "print(np.max(flops_k3)*100)\n",
    "\n",
    "flops_k5 = [0.94143963, 0.94113914, 0.93913595, 0.93933626, 0.93873531]#, 0.93987046, 0.93987048, 0.93967013, 0.93993721, 0.94023770]\n",
    "k1_mean = np.mean(flops_k5)\n",
    "k1_std = np.std(flops_k5)\n",
    "print(k1_mean*100, ' ± ', k1_std*100)\n",
    "print(np.max(flops_k5)*100)"
   ]
  },
  {
   "cell_type": "code",
   "execution_count": 17,
   "metadata": {},
   "outputs": [
    {
     "name": "stdout",
     "output_type": "stream",
     "text": [
      "93.97168819999999  ±  0.11307435624295864\n",
      "94.17401199999999\n",
      "94.0057428  ±  0.08730739221715303\n",
      "94.17401199999999\n",
      "94.0057428  ±  0.08730739221715303\n",
      "94.17401199999999\n"
     ]
    }
   ],
   "source": [
    "params_k1 = [0.93987046, 0.93967015, 0.94174012, 0.93870191, 0.93860177]#, 0.94020432, 0.94100563, 0.93940304, 0.94077190, 0.93760016]\n",
    "k1_mean = np.mean(params_k1)\n",
    "k1_std = np.std(params_k1)\n",
    "print(k1_mean*100, ' ± ', k1_std*100)\n",
    "print(np.max(params_k1)*100)\n",
    "\n",
    "params_k3 = [0.93987046, 0.93967015, 0.94174012, 0.93980368, 0.93920273]#, 0.94020432, 0.94100563, 0.93940304, 0.94077190, 0.93913595]\n",
    "k1_mean = np.mean(params_k3)\n",
    "k1_std = np.std(params_k3)\n",
    "print(k1_mean*100, ' ± ', k1_std*100)\n",
    "print(np.max(params_k3)*100)\n",
    "\n",
    "params_k5 = [0.93987046, 0.93967015, 0.94174012, 0.93980368, 0.93920273]#, 0.94020432, 0.94100563, 0.93940304, 0.94077190, 0.93913595]\n",
    "k1_mean = np.mean(params_k5)\n",
    "k1_std = np.std(params_k5)\n",
    "print(k1_mean*100, ' ± ', k1_std*100)\n",
    "print(np.max(params_k5)*100)"
   ]
  },
  {
   "cell_type": "code",
   "execution_count": 16,
   "metadata": {},
   "outputs": [
    {
     "name": "stdout",
     "output_type": "stream",
     "text": [
      "93.9910526  ±  0.07391639560097676\n",
      "94.087205\n",
      "94.055823  ±  0.08408181955452786\n",
      "94.194045\n",
      "94.055823  ±  0.08408181955452786\n",
      "94.194045\n"
     ]
    }
   ],
   "source": [
    "nocon_k1 = [0.94060498,0.94087205, 0.93883548, 0.93963675, 0.93960337]#, 0.93913595, 0.93990384, 0.94143965, 0.94234109, 0.93920273]\n",
    "k1_mean = np.mean(nocon_k1)\n",
    "k1_std = np.std(nocon_k1)\n",
    "print(k1_mean*100, ' ± ', k1_std*100)\n",
    "print(np.max(nocon_k1)*100)\n",
    "\n",
    "nocon_k3 = [0.94060498,0.94087205, 0.94194045, 0.93963675, 0.93973692]#, 0.93933628, 0.93990384, 0.94143965, 0.94234109, 0.94087205]\n",
    "k1_mean = np.mean(nocon_k3)\n",
    "k1_std = np.std(nocon_k3)\n",
    "print(k1_mean*100, ' ± ', k1_std*100)\n",
    "print(np.max(nocon_k3)*100)\n",
    "\n",
    "nocon_k5 = [0.94060498,0.94087205, 0.94194045, 0.93963675, 0.93973692]#, 0.93936966, 0.93990384, 0.94143965, 0.94234109, 0.94087205]\n",
    "k1_mean = np.mean(nocon_k5)\n",
    "k1_std = np.std(nocon_k5)\n",
    "print(k1_mean*100, ' ± ', k1_std*100)\n",
    "print(np.max(nocon_k5)*100)"
   ]
  }
 ],
 "metadata": {
  "interpreter": {
   "hash": "c4d229c0cbf1473bc8b165130977e45c7704cd07f60e7c7324b1f62c36056d5f"
  },
  "kernelspec": {
   "display_name": "Python 3.7.8 64-bit ('rookie': conda)",
   "name": "python3"
  },
  "language_info": {
   "codemirror_mode": {
    "name": "ipython",
    "version": 3
   },
   "file_extension": ".py",
   "mimetype": "text/x-python",
   "name": "python",
   "nbconvert_exporter": "python",
   "pygments_lexer": "ipython3",
   "version": "3.7.8"
  },
  "orig_nbformat": 4
 },
 "nbformat": 4,
 "nbformat_minor": 2
}
