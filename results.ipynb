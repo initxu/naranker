{
 "cells": [
  {
   "cell_type": "code",
   "execution_count": 4,
   "metadata": {},
   "outputs": [
    {
     "name": "stdout",
     "output_type": "stream",
     "text": [
      "93.9236112 ± 0.12053520259475937, best 94.220754\n"
     ]
    }
   ],
   "source": [
    "import numpy as np\n",
    "n101_noisy0_baseline = [0.93913595, 0.93913595, 0.93913595, 0.93686565,0.93913595,0.93933628 ,0.93913595,0.93913595,0.93913595,0.94220754]\n",
    "test_mean = np.mean(n101_noisy0_baseline)\n",
    "test_sd = np.std(n101_noisy0_baseline)\n",
    "test_max = np.max(n101_noisy0_baseline)\n",
    "print('{} ± {}, best {}'.format(test_mean*100,test_sd*100,test_max*100))"
   ]
  },
  {
   "cell_type": "code",
   "execution_count": 5,
   "metadata": {},
   "outputs": [
    {
     "name": "stdout",
     "output_type": "stream",
     "text": [
      "93.98404090000001 ± 0.08023169138245514, best 94.17401199999999\n"
     ]
    }
   ],
   "source": [
    "import numpy as np\n",
    "n101_noisy03 = [ 0.93913595, 0.93933628, 0.94174012, 0.93913595, 0.94023770, 0.94020432, 0.93913595, 0.94037126, 0.93997061, 0.93913595]\n",
    "test_mean = np.mean(n101_noisy03)\n",
    "test_sd = np.std(n101_noisy03)\n",
    "test_max = np.max(n101_noisy03)\n",
    "print('{} ± {}, best {}'.format(test_mean*100,test_sd*100,test_max*100))"
   ]
  },
  {
   "cell_type": "code",
   "execution_count": 6,
   "metadata": {},
   "outputs": [
    {
     "name": "stdout",
     "output_type": "stream",
     "text": [
      "94.05348559999999 ± 0.08674733268659998, best 94.194045\n"
     ]
    }
   ],
   "source": [
    "import numpy as np\n",
    "n101_noisy05 = [ 0.94194045, 0.94113914, 0.94050483, 0.93913595, 0.94053821, 0.94143965, 0.94067172, 0.93913595, 0.93997061, 0.94087205]\n",
    "test_mean = np.mean(n101_noisy05)\n",
    "test_sd = np.std(n101_noisy05)\n",
    "test_max = np.max(n101_noisy05)\n",
    "print('{} ± {}, best {}'.format(test_mean*100,test_sd*100,test_max*100))"
   ]
  },
  {
   "cell_type": "code",
   "execution_count": 3,
   "metadata": {},
   "outputs": [
    {
     "name": "stdout",
     "output_type": "stream",
     "text": [
      "94.03946299999998 ± 0.05211056761157025, best 94.143965\n"
     ]
    }
   ],
   "source": [
    "import numpy as np\n",
    "n101_noisy07 = [0.94070512 , 0.94030448, 0.94023770, 0.94143965, 0.94013755, 0.93993721, 0.94093885, 0.94020432, 0.93946983, 0.94057159]\n",
    "test_mean = np.mean(n101_noisy07)\n",
    "test_sd = np.std(n101_noisy07)\n",
    "test_max = np.max(n101_noisy07)\n",
    "print('{} ± {}, best {}'.format(test_mean*100,test_sd*100,test_max*100))"
   ]
  },
  {
   "cell_type": "code",
   "execution_count": 7,
   "metadata": {},
   "outputs": [
    {
     "name": "stdout",
     "output_type": "stream",
     "text": [
      "94.04213349999999 ± 0.07046495523769356, best 94.113914\n"
     ]
    }
   ],
   "source": [
    "import numpy as np\n",
    "n101_noisy1 = [ 0.94073852, 0.94037126, 0.94100561, 0.94100561, 0.93997061, 0.94023770, 0.94113914, 0.94087205, 0.93863515, 0.94023770]\n",
    "test_mean = np.mean(n101_noisy1)\n",
    "test_sd = np.std(n101_noisy1)\n",
    "test_max = np.max(n101_noisy1)\n",
    "print('{} ± {}, best {}'.format(test_mean*100,test_sd*100,test_max*100))"
   ]
  },
  {
   "cell_type": "code",
   "execution_count": 8,
   "metadata": {},
   "outputs": [
    {
     "name": "stdout",
     "output_type": "stream",
     "text": [
      "94.113000001 ± 0.1869310642949547, best 94.30666667\n",
      "91.227866654 ± 0.18519174895994964, best 91.42399999\n"
     ]
    }
   ],
   "source": [
    "import numpy as np\n",
    "n201_cifar10_test_noisy0_baseline = [ 94.30666667, 93.93000000, 93.85000000, 94.24000000, 93.85000000, 94.30666667, 94.19000000, 93.93333333, 94.21666667, 94.30666667]\n",
    "n201_cifar10_val_noisy0_baseline = [ 91.33599999, 90.76799998, 91.11866665, 91.34399999, 91.11866665, 91.33599999, 91.34800000, 91.14933331, 91.42399999, 91.33599999]\n",
    "\n",
    "test_mean = np.mean(n201_cifar10_test_noisy0_baseline)\n",
    "test_sd = np.std(n201_cifar10_test_noisy0_baseline)\n",
    "test_max = np.max(n201_cifar10_test_noisy0_baseline)\n",
    "\n",
    "val_mean = np.mean(n201_cifar10_val_noisy0_baseline)\n",
    "val_std = np.std(n201_cifar10_val_noisy0_baseline)\n",
    "val_max = np.max(n201_cifar10_val_noisy0_baseline)\n",
    "\n",
    "\n",
    "print('{} ± {}, best {}'.format(test_mean,test_sd,test_max))\n",
    "print('{} ± {}, best {}'.format(val_mean,val_std,val_max))"
   ]
  },
  {
   "cell_type": "code",
   "execution_count": 1,
   "metadata": {},
   "outputs": [
    {
     "name": "stdout",
     "output_type": "stream",
     "text": [
      "94.32633332600001 ± 0.04969797750859483, best 94.37333333\n",
      "91.443533318 ± 0.10268919462316717, best 91.60666665\n"
     ]
    }
   ],
   "source": [
    "import numpy as np\n",
    "n201_cifar10_test_noisy05 = [ 94.3066666, 94.37333333, 94.30666667, 94.34333333, 94.21000000, 94.37333333, 94.37333333, 94.30666667, 94.37333333, 94.29666667]\n",
    "n201_cifar10_val_noisy05 = [ 91.33599999, 91.60666665, 91.33599999, 91.43999998, 91.33399998, 91.49599998, 91.60666665, 91.33599999, 91.49599998, 91.44799999]\n",
    "\n",
    "test_mean = np.mean(n201_cifar10_test_noisy05)\n",
    "test_sd = np.std(n201_cifar10_test_noisy05)\n",
    "test_max = np.max(n201_cifar10_test_noisy05)\n",
    "\n",
    "val_mean = np.mean(n201_cifar10_val_noisy05)\n",
    "val_std = np.std(n201_cifar10_val_noisy05)\n",
    "val_max = np.max(n201_cifar10_val_noisy05)\n",
    "\n",
    "\n",
    "print('{} ± {}, best {}'.format(test_mean,test_sd,test_max))\n",
    "print('{} ± {}, best {}'.format(val_mean,val_std,val_max))"
   ]
  },
  {
   "cell_type": "code",
   "execution_count": 9,
   "metadata": {},
   "outputs": [
    {
     "name": "stdout",
     "output_type": "stream",
     "text": [
      "72.48999995 ± 0.5242836321559812, best 73.25999994\n",
      "71.984333266 ± 0.5867159814776953, best 72.95999992\n"
     ]
    }
   ],
   "source": [
    "import numpy as np\n",
    "n201_cifar100_test_noisy0_baseline = [ 72.37333326, 72.27999995, 73.25999994, 72.27999993, 71.74000005, 72.37333326, 73.25999994, 72.37333326, 73.13999999, 71.81999992]\n",
    "n201_cifar100_val_noisy0_baseline = [ 71.65999996, 71.58999996, 72.39999987, 72.95999992, 70.81999996, 71.65999996, 72.39999987, 71.65999996, 72.51333331, 72.17999989]\n",
    "\n",
    "test_mean = np.mean(n201_cifar100_test_noisy0_baseline)\n",
    "test_sd = np.std(n201_cifar100_test_noisy0_baseline)\n",
    "test_max = np.max(n201_cifar100_test_noisy0_baseline)\n",
    "\n",
    "val_mean = np.mean(n201_cifar100_val_noisy0_baseline)\n",
    "val_std = np.std(n201_cifar100_val_noisy0_baseline)\n",
    "val_max = np.max(n201_cifar100_val_noisy0_baseline)\n",
    "\n",
    "\n",
    "print('{} ± {}, best {}'.format(test_mean,test_sd,test_max))\n",
    "print('{} ± {}, best {}'.format(val_mean,val_std,val_max))"
   ]
  },
  {
   "cell_type": "code",
   "execution_count": 2,
   "metadata": {},
   "outputs": [
    {
     "name": "stdout",
     "output_type": "stream",
     "text": [
      "72.892666632 ± 0.3727429973981235, best 73.51333332\n",
      "72.54399994999999 ± 0.43622829099248556, best 73.49333336\n"
     ]
    }
   ],
   "source": [
    "import numpy as np\n",
    "n201_cifar100_test_noisy05 = [ 72.88000002, 72.75999999, 73.13999999, 73.21999997, 72.23999998, 72.99333324, 72.37333326, 73.13999999, 73.51333332, 72.66666656]\n",
    "n201_cifar100_val_noisy05 = [ 72.51333330, 72.51999991, 72.51333331, 72.74666661, 72.71999991, 72.16666661, 71.65999996, 72.51333331, 73.49333336, 72.59333322]\n",
    "\n",
    "test_mean = np.mean(n201_cifar100_test_noisy05)\n",
    "test_sd = np.std(n201_cifar100_test_noisy05)\n",
    "test_max = np.max(n201_cifar100_test_noisy05)\n",
    "\n",
    "val_mean = np.mean(n201_cifar100_val_noisy05)\n",
    "val_std = np.std(n201_cifar100_val_noisy05)\n",
    "val_max = np.max(n201_cifar100_val_noisy05)\n",
    "\n",
    "\n",
    "print('{} ± {}, best {}'.format(test_mean,test_sd,test_max))\n",
    "print('{} ± {}, best {}'.format(val_mean,val_std,val_max))"
   ]
  },
  {
   "cell_type": "code",
   "execution_count": 10,
   "metadata": {},
   "outputs": [
    {
     "name": "stdout",
     "output_type": "stream",
     "text": [
      "46.45999994900001 ± 0.3219232696309467, best 46.93333335\n",
      "45.933333291000004 ± 0.5118050804098521, best 46.49999992\n"
     ]
    }
   ],
   "source": [
    "import numpy as np\n",
    "n201_img16_test_noisy0_baseline = [ 46.58888880, 46.13333323, 45.87777768, 46.47777770, 46.93333335, 46.58888880, 46.50000004, 46.93333335, 46.43333331, 46.13333323]\n",
    "n201_img6_val_noisy0_baseline = [ 46.48888883, 45.13333330, 45.39999991, 46.26666664, 45.98333331, 46.48888883, 46.49999992, 45.98333331, 45.95555556, 45.13333330]\n",
    "\n",
    "test_mean = np.mean(n201_img16_test_noisy0_baseline)\n",
    "test_sd = np.std(n201_img16_test_noisy0_baseline)\n",
    "test_max = np.max(n201_img16_test_noisy0_baseline)\n",
    "\n",
    "val_mean = np.mean(n201_img6_val_noisy0_baseline)\n",
    "val_std = np.std(n201_img6_val_noisy0_baseline)\n",
    "val_max = np.max(n201_img6_val_noisy0_baseline)\n",
    "\n",
    "\n",
    "print('{} ± {}, best {}'.format(test_mean,test_sd,test_max))\n",
    "print('{} ± {}, best {}'.format(val_mean,val_std,val_max))"
   ]
  },
  {
   "cell_type": "code",
   "execution_count": 3,
   "metadata": {},
   "outputs": [
    {
     "name": "stdout",
     "output_type": "stream",
     "text": [
      "46.660555493 ± 0.2380664069293986, best 47.31111101\n",
      "46.156111037 ± 0.3739219075773703, best 46.49999995\n"
     ]
    }
   ],
   "source": [
    "import numpy as np\n",
    "n201_img16_test_noisy05 = [ 46.58888880, 46.38333321, 46.68333334, 46.66666655, 46.43333331, 46.66666655, 46.58888880, 47.31111101, 46.60000002, 46.68333334]\n",
    "n201_img16_val_noisy05 = [ 46.48888883,  45.88333326, 45.53333324, 46.39999985, 45.95555556, 46.39999985, 46.48888883, 46.37777776, 46.49999995, 45.53333324]\n",
    "\n",
    "test_mean = np.mean(n201_img16_test_noisy05)\n",
    "test_sd = np.std(n201_img16_test_noisy05)\n",
    "test_max = np.max(n201_img16_test_noisy05)\n",
    "\n",
    "val_mean = np.mean(n201_img16_val_noisy05)\n",
    "val_std = np.std(n201_img16_val_noisy05)\n",
    "val_max = np.max(n201_img16_val_noisy05)\n",
    "\n",
    "\n",
    "print('{} ± {}, best {}'.format(test_mean,test_sd,test_max))\n",
    "print('{} ± {}, best {}'.format(val_mean,val_std,val_max))"
   ]
  }
 ],
 "metadata": {
  "interpreter": {
   "hash": "c4d229c0cbf1473bc8b165130977e45c7704cd07f60e7c7324b1f62c36056d5f"
  },
  "kernelspec": {
   "display_name": "Python 3.7.8 64-bit ('rookie': conda)",
   "name": "python3"
  },
  "language_info": {
   "codemirror_mode": {
    "name": "ipython",
    "version": 3
   },
   "file_extension": ".py",
   "mimetype": "text/x-python",
   "name": "python",
   "nbconvert_exporter": "python",
   "pygments_lexer": "ipython3",
   "version": "3.7.8"
  },
  "orig_nbformat": 4
 },
 "nbformat": 4,
 "nbformat_minor": 2
}