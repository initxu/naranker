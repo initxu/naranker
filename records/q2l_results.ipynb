{
 "cells": [
  {
   "cell_type": "code",
   "execution_count": null,
   "metadata": {},
   "outputs": [],
   "source": []
  }
 ],
 "metadata": {
  "kernelspec": {
   "display_name": "Python 3.7.8 ('rookie')",
   "language": "python",
   "name": "python3"
  },
  "language_info": {
   "name": "python",
   "version": "3.7.8"
  },
  "orig_nbformat": 4,
  "vscode": {
   "interpreter": {
    "hash": "26e31fd347f53701486cd69902bfc7be5b6d5fc7989c5186e12c4688bd6369ee"
   }
  }
 },
 "nbformat": 4,
 "nbformat_minor": 2
}
